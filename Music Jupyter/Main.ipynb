{
 "cells": [
  {
   "cell_type": "code",
   "execution_count": null,
   "metadata": {},
   "outputs": [],
   "source": [
    "# To import csv file and extract the data\n",
    "import pandas as pd\n",
    "# To save and load model in a  file \n",
    "import joblib\n",
    "# To do the prediction\n",
    "from sklearn.tree import DecisionTreeClassifier\n",
    "# To randomly seperate dataset into train & test set\n",
    "from sklearn.model_selection import train_test_split\n",
    "# To check for accurecy\n",
    "from sklearn.metrics import accuracy_score\n",
    "# To make graph of decision tree\n",
    "from sklearn import tree"
   ]
  },
  {
   "cell_type": "code",
   "execution_count": null,
   "metadata": {},
   "outputs": [],
   "source": [
    "# Load dataset\n",
    "df = pd.read_csv('./dataset/music.csv')\n",
    "# Display overview of data\n",
    "df"
   ]
  },
  {
   "cell_type": "code",
   "execution_count": null,
   "metadata": {},
   "outputs": [],
   "source": [
    "# Size of table (Row, Column)\n",
    "df.shape"
   ]
  },
  {
   "cell_type": "code",
   "execution_count": null,
   "metadata": {},
   "outputs": [],
   "source": [
    "# Gives count, mean,standard deviation, etc. of columns having numerical value.\n",
    "# If it will exclude cell which have non numerical values.\n",
    "df.describe()"
   ]
  },
  {
   "cell_type": "code",
   "execution_count": null,
   "metadata": {},
   "outputs": [],
   "source": [
    "# gives 2d array format of csv file data\n",
    "df.values"
   ]
  },
  {
   "cell_type": "code",
   "execution_count": null,
   "metadata": {},
   "outputs": [],
   "source": [
    "###### Seperate date into input and output\n",
    "# Make a dataset with input data\n",
    "X = df.drop(columns=[\"genre\"])\n",
    "# Make an series of output data\n",
    "y = df[\"genre\"]"
   ]
  },
  {
   "cell_type": "code",
   "execution_count": null,
   "metadata": {},
   "outputs": [],
   "source": [
    "# Decision tree object\n",
    "model = DecisionTreeClassifier()\n",
    "# pass input and output data\n",
    "model.fit(X, y)\n",
    "# Perdiction\n",
    "prediction = model.predict([[21,1],[22,0]])\n",
    "prediction"
   ]
  },
  {
   "cell_type": "code",
   "execution_count": null,
   "metadata": {},
   "outputs": [],
   "source": [
    "# Save model to files\n",
    "joblib.dump(model, \"./Models/music_predict.joblib\")"
   ]
  },
  {
   "cell_type": "code",
   "execution_count": null,
   "metadata": {},
   "outputs": [],
   "source": [
    "# Create test, train set and predict\n",
    "X_train, X_test, y_train, y_test = train_test_split(X, y, test_size=0.8)\n",
    "# pass input and output data\n",
    "model.fit(X_train, y_train)\n",
    "# Perdiction\n",
    "prediction = model.predict( X_test )"
   ]
  },
  {
   "cell_type": "code",
   "execution_count": null,
   "metadata": {},
   "outputs": [],
   "source": [
    "# Save model to files\n",
    "joblib.dump(model, \"./Models/music_predict_testtrain.joblib\")"
   ]
  },
  {
   "cell_type": "code",
   "execution_count": null,
   "metadata": {},
   "outputs": [],
   "source": [
    "# Calulate accuracy\n",
    "score = accuracy_score( y_test, prediction )\n",
    "score"
   ]
  },
  {
   "cell_type": "code",
   "execution_count": null,
   "metadata": {},
   "outputs": [],
   "source": [
    "# Load models from file\n",
    "m1  = joblib.load(\"./Models/music_predict.joblib\")\n",
    "m2  = joblib.load(\"./Models/music_predict_testtrain.joblib\")\n",
    "pred = m1.predict([[21,1]])\n",
    "print(pred)\n",
    "pred = m2.predict([[21,1]])\n",
    "print(pred)"
   ]
  },
  {
   "cell_type": "code",
   "execution_count": null,
   "metadata": {},
   "outputs": [],
   "source": [
    "# Save graph in a .dot file.\n",
    "tree.export_graphviz(model,\n",
    "                     out_file=\"./graphs/music.dot\",\n",
    "                    feature_names=['age','gender'],\n",
    "                    class_names=sorted(y.unique()),\n",
    "                    label=\"all\",\n",
    "                    rounded=True,\n",
    "                    filled=True)"
   ]
  }
 ],
 "metadata": {
  "kernelspec": {
   "display_name": "Python 3",
   "language": "python",
   "name": "python3"
  },
  "language_info": {
   "codemirror_mode": {
    "name": "ipython",
    "version": 3
   },
   "file_extension": ".py",
   "mimetype": "text/x-python",
   "name": "python",
   "nbconvert_exporter": "python",
   "pygments_lexer": "ipython3",
   "version": "3.8.2"
  }
 },
 "nbformat": 4,
 "nbformat_minor": 4
}